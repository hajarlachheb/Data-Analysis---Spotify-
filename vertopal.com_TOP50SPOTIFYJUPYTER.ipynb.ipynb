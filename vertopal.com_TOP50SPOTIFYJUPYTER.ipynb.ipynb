{
 "cells": [
  {
   "cell_type": "markdown",
   "metadata": {},
   "source": [
    "{ “cells”: \\[ { “cell_type”: “code”, “execution_count”: null,\n",
    "“metadata”: {}, “outputs”: \\[\\], “source”: \\[ “import numpy as np”,\n",
    "“import pandas as pd ”, “import matplotlib.pyplot as plt”, “import\n",
    "seaborn as sns”, “”, “from pandas.plotting import scatter_matrix”,\n",
    "“import plotly_express as px”, “”, “import os”, “for dirname, \\_,\n",
    "filenames in os.walk(‘/kaggle/input’):“,” for filename in filenames:“,”\n",
    "print(os.path.join(dirname, filename))“,”data =\n",
    "pd.read_csv(\"/Users/macbookpro/Desktop/top50spotify2019/top50.csv\",encoding\n",
    "=\n",
    "\"ISO-8859-1\")“,”data.head()“,”data=data.rename(columns={\"Loudness..dB..\":\n",
    "\"Loudness\", \"Acousticness..\": \"Acousticness\",\n",
    "\"Speechiness.\":\"Speechiness\",\"Valence.\":\"Valence\",\"Length.\":\"Length\"})“,”“,”data.rename(columns={‘Artist.Name’:‘artist_name’},inplace=True)“,”data.head()“,”“,”print(data.head())“,”artist_contribution\n",
    "= data\\[\\[‘artist_name’,‘Genre’, ‘Popularity’\\]\\]“,”“,”“,”fig =\n",
    "px.box(data, x=\"artist_name\", y=\"Popularity\")“,”“,”fig.show()“,”fig =\n",
    "px.scatter(data, x=\"artist_name\", y=\"Popularity\", color=\"Genre\",\n",
    "hover_name=\"Track.Name\")“,”fig.update_layout(“,” title_text = \"Top 50\n",
    "Titres suivant le nom de l’artiste et la popularité du titre\",“,” “,”\n",
    "xaxis=dict(tickangle=45)“,”)“,”fig.show()“,”print(‘Il faut cliquer pour\n",
    "trouver ou connaitre le titre du morceau’)“,”fig = px.box(data,\n",
    "x=\"GeneralGenre\", y=\"Popularity\")“,”fig.update_layout(“,” title_text =\n",
    "\"Top 50 Titres suivant le genre general et la popularité du titre\",“,”\n",
    "xaxis=dict(tickangle=45)“,”)“,”fig.show()“,”fig = px.scatter(data,\n",
    "x=\"Genre\", y=\"Danceability\", color=\"Popularity\",\n",
    "hover_name=\"Track.Name\")“,”fig.update_layout(“,” title_text = \"Top 50\n",
    "Titres suivant le nom de l’artiste et la popularité du titre\",“,” “,”\n",
    "xaxis=dict(tickangle=45)“,”)“,”fig.show()“,”print(‘Il faut cliquer pour\n",
    "trouver ou connaitre le titre du morceau’)” \\] } \\], “metadata”: {\n",
    "“kernelspec”: { “display_name”: “Python 3”, “language”: “python”,\n",
    "“name”: “python3” }, “language_info”: { “codemirror_mode”: { “name”:\n",
    "“ipython”, “version”: 3 }, “file_extension”: “.py”, “mimetype”:\n",
    "“text/x-python”, “name”: “python”, “nbconvert_exporter”: “python”,\n",
    "“pygments_lexer”: “ipython3”, “version”: “3.7.4” } }, “nbformat”: 4,\n",
    "“nbformat_minor”: 2 }"
   ],
   "id": "42a14256-91c8-446e-92a7-ab6bf11055d3"
  }
 ],
 "nbformat": 4,
 "nbformat_minor": 5,
 "metadata": {}
}
